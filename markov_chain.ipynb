{
 "cells": [
  {
   "cell_type": "code",
   "execution_count": 14,
   "id": "bed58b93",
   "metadata": {},
   "outputs": [],
   "source": [
    "import numpy as np"
   ]
  },
  {
   "cell_type": "code",
   "execution_count": 4,
   "id": "1f0386d3",
   "metadata": {},
   "outputs": [],
   "source": [
    "trump = open('C:\\\\Users\\\\sasha\\\\GO\\\\PRO\\\\datas\\\\speeches.txt', encoding='utf8').read()"
   ]
  },
  {
   "cell_type": "code",
   "execution_count": 9,
   "id": "46407d65",
   "metadata": {},
   "outputs": [],
   "source": [
    "#делим по словам\n",
    "corpus = trump.split()\n",
    "def make_pairs(corpus):\n",
    "    for i in range(len(corpus)-1):\n",
    "        yield(corpus[i], corpus[i+1])"
   ]
  },
  {
   "cell_type": "code",
   "execution_count": 11,
   "id": "106196f5",
   "metadata": {},
   "outputs": [
    {
     "name": "stdout",
     "output_type": "stream",
     "text": [
      "<generator object make_pairs at 0x000002047BB4B0D0>\n"
     ]
    }
   ],
   "source": [
    "pairs = make_pairs(corpus)\n",
    "print(pairs)"
   ]
  },
  {
   "cell_type": "code",
   "execution_count": 12,
   "id": "b1586e92",
   "metadata": {},
   "outputs": [],
   "source": [
    "word_dict = {}\n",
    "for word_1, word_2 in pairs:\n",
    "    if word_1 in word_dict.keys():\n",
    "        word_dict[word_1].append(word_2)\n",
    "    else:\n",
    "        word_dict[word_1] = [word_2]"
   ]
  },
  {
   "cell_type": "code",
   "execution_count": 17,
   "id": "a823f33f",
   "metadata": {},
   "outputs": [],
   "source": [
    "# строим модель цепей Маркова\n",
    "first_word = np.random.choice(corpus)\n",
    "\n",
    "while first_word.islower():\n",
    "    first_word = np.random.choice(corpus)"
   ]
  },
  {
   "cell_type": "code",
   "execution_count": 18,
   "id": "a3c0e329",
   "metadata": {},
   "outputs": [],
   "source": [
    "chain = [first_word]\n",
    "n_words = 20\n",
    "\n",
    "for i in range(n_words):\n",
    "    chain.append(np.random.choice(word_dict[chain[-1]]))"
   ]
  },
  {
   "cell_type": "code",
   "execution_count": 19,
   "id": "b7c77c27",
   "metadata": {},
   "outputs": [
    {
     "name": "stdout",
     "output_type": "stream",
     "text": [
      "– great potential to let me very weak on the ones from the guy or business and sell you know, when\n"
     ]
    }
   ],
   "source": [
    "print(' '.join(chain))"
   ]
  }
 ],
 "metadata": {
  "kernelspec": {
   "display_name": "Python 3 (ipykernel)",
   "language": "python",
   "name": "python3"
  },
  "language_info": {
   "codemirror_mode": {
    "name": "ipython",
    "version": 3
   },
   "file_extension": ".py",
   "mimetype": "text/x-python",
   "name": "python",
   "nbconvert_exporter": "python",
   "pygments_lexer": "ipython3",
   "version": "3.10.9"
  }
 },
 "nbformat": 4,
 "nbformat_minor": 5
}
